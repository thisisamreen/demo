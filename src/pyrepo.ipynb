{
 "cells": [
  {
   "attachments": {},
   "cell_type": "markdown",
   "metadata": {},
   "source": [
    "#### Markdown/Shortcut\n",
    "'#'         : heading <br>\n",
    "<'br'>     : next line <br>\n",
    "'** t **'   : bold<br>\n",
    "'* t *'     : italics<br>\n",
    "next para   : {'\\ \\ \\'}\n",
    "\n"
   ]
  },
  {
   "cell_type": "code",
   "execution_count": 1,
   "metadata": {},
   "outputs": [],
   "source": [
    "import yaml\n",
    "import os"
   ]
  },
  {
   "cell_type": "code",
   "execution_count": null,
   "metadata": {},
   "outputs": [],
   "source": [
    "#OS module\n",
    "'''\n",
    "OS module in Python provides functions for interacting with the operating system.<br>\n",
    "Syntax: **os.chdir(path)**\n",
    "Parameters: \n",
    "path: A complete path of directory to be changed to new directory path.\n",
    "Returns: Doesn’t return any value \n",
    "'''"
   ]
  },
  {
   "cell_type": "code",
   "execution_count": null,
   "metadata": {},
   "outputs": [],
   "source": [
    "os.getcwd()"
   ]
  },
  {
   "cell_type": "code",
   "execution_count": null,
   "metadata": {},
   "outputs": [],
   "source": [
    "os.chdir('config/config.yml')"
   ]
  },
  {
   "cell_type": "code",
   "execution_count": 2,
   "metadata": {},
   "outputs": [
    {
     "name": "stdout",
     "output_type": "stream",
     "text": [
      "[Errno 2] No such file or directory: 'config/config.yml'\n"
     ]
    }
   ],
   "source": [
    "try:\n",
    "    file = 'config/'+'config' + '.yml'\n",
    "    try:\n",
    "        with open(file, \"r\") as f:\n",
    "            config = yaml.safe_load(f)\n",
    "    except PermissionError as e:\n",
    "        print(f\"{e}\")\n",
    "\n",
    "except FileNotFoundError as e:\n",
    "    print(f\"{e}\")"
   ]
  },
  {
   "cell_type": "code",
   "execution_count": null,
   "metadata": {},
   "outputs": [],
   "source": [
    "with open(\"config\\config.yml\",\"r\") as f:\n",
    "    print(os.getcwd())\n",
    "    config = yaml.safe_load(f)\n"
   ]
  },
  {
   "cell_type": "code",
   "execution_count": null,
   "metadata": {},
   "outputs": [],
   "source": []
  }
 ],
 "metadata": {
  "kernelspec": {
   "display_name": "Python 3",
   "language": "python",
   "name": "python3"
  },
  "language_info": {
   "codemirror_mode": {
    "name": "ipython",
    "version": 3
   },
   "file_extension": ".py",
   "mimetype": "text/x-python",
   "name": "python",
   "nbconvert_exporter": "python",
   "pygments_lexer": "ipython3",
   "version": "3.11.1 (tags/v3.11.1:a7a450f, Dec  6 2022, 19:58:39) [MSC v.1934 64 bit (AMD64)]"
  },
  "orig_nbformat": 4,
  "vscode": {
   "interpreter": {
    "hash": "52ebe6a3484d5471ffa9875edb732aabf79d832b3a7e6cd8b213e21b111c5a0c"
   }
  }
 },
 "nbformat": 4,
 "nbformat_minor": 2
}
